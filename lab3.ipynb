{
 "cells": [
  {
   "cell_type": "markdown",
   "metadata": {},
   "source": [
    "## переделать!!!! \n",
    "### надо написать все через tkinter"
   ]
  },
  {
   "cell_type": "code",
   "execution_count": 2,
   "metadata": {},
   "outputs": [],
   "source": [
    "def create_window():\n",
    "    x = 1500 #int(input('Введите ширину картинки: '))\n",
    "    y = 1500 #int(input('Введите высоту картинки: '))\n",
    "    return gr.GraphWin('MyPic',x,y)"
   ]
  },
  {
   "cell_type": "code",
   "execution_count": 3,
   "metadata": {},
   "outputs": [],
   "source": [
    "def draw_horizon(pic):\n",
    "    x,y = pic.getWidth(),pic.getHeight()\n",
    "    sky_color = gr.color_rgb(50,50,120)\n",
    "    ground_color = gr.color_rgb(80,120,80)\n",
    "    \n",
    "    sky = gr.Rectangle(gr.Point(0,0),gr.Point(x,y//2))\n",
    "    sky.setFill(sky_color)\n",
    "    ground = gr.Rectangle(gr.Point(0,y//2),gr.Point(x,y))\n",
    "    ground.setFill(ground_color)\n",
    "    sky.draw(pic)\n",
    "    ground.draw(pic)"
   ]
  },
  {
   "cell_type": "code",
   "execution_count": 4,
   "metadata": {},
   "outputs": [],
   "source": [
    "def draw_moon(pic):\n",
    "    x,y = pic.getWidth(),pic.getHeight()\n",
    "    moon_color = gr.color_rgb(255,255,204)\n",
    "    \n",
    "    moon = gr.Circle(gr.Point(x//4*3,y//4),x//8)\n",
    "    moon.setFill(moon_color)\n",
    "    moon.draw(pic)"
   ]
  },
  {
   "cell_type": "code",
   "execution_count": 39,
   "metadata": {},
   "outputs": [],
   "source": [
    "def draw_clouds(pic):\n",
    "    x,y = pic.getWidth(),pic.getHeight()\n",
    "    for i in range(8):\n",
    "        corner1_x = random.randrange(-x//3*2,x-x//6)\n",
    "        corner1_y = random.randrange(0,y//2-y//10)\n",
    "        corner1 = gr.Point(corner1_x, corner1_y)\n",
    "        corner2 = corner1.clone()\n",
    "        corner2.move(x//3*2,y//10)\n",
    "        cloud = gr.Oval(corner1,corner2)\n",
    "        random_grey = 32 * random.randrange(3,6)\n",
    "        cloud_color = gr.color_rgb(random_grey,random_grey,random_grey)\n",
    "        cloud.setFill(cloud_color)\n",
    "        cloud.draw(pic)"
   ]
  },
  {
   "cell_type": "code",
   "execution_count": 104,
   "metadata": {},
   "outputs": [],
   "source": [
    "def draw_starship(pic):\n",
    "    x,y = pic.getWidth(),pic.getHeight()\n",
    "    lamps = 6\n",
    "    base_corner1 = gr.Point(x*0.05,y*0.25)\n",
    "    \n",
    "    base_corner2 = base_corner1.clone()\n",
    "    base_corner2.move(x*0.5,y*0.15)\n",
    "    \n",
    "    head_corner1 = base_corner1.clone()\n",
    "    head_corner1.move(x*0.1,-y*0.01)\n",
    "    head_corner2 = head_corner1.clone()\n",
    "    head_corner1.move(x*0.3,y*0.1)\n",
    "    \n",
    "    starship_base = gr.Oval(base_corner1,base_corner2)\n",
    "    starship_base.setFill('grey')\n",
    "    \n",
    "    starship_head = gr.Oval(head_corner1,head_corner2)\n",
    "    starship_head.setFill('lightgrey')\n",
    "    \n",
    "    starship_base.draw(pic)\n",
    "    starship_head.draw(pic)\n",
    "    \n",
    "    for i in range(lamps):\n",
    "        lamp_corner1 = base_corner1.clone()\n",
    "        lamp_corner1.move((base_corner2.x - base_corner1.x)//lamps*i,\n",
    "                          (base_corner2.y - base_corner1.y + (base_corner2.y - base_corner1.y)//2)//lamps*i)\n",
    "        lamp_corner2 = lamp_corner1.clone()\n",
    "        lamp_corner2.move(x*0.06,y*0.02)\n",
    "        \n",
    "        lamp = gr.Oval(lamp_corner1,lamp_corner2)\n",
    "        lamp.setFill('white')\n",
    "        lamp.draw(pic)"
   ]
  },
  {
   "cell_type": "code",
   "execution_count": 45,
   "metadata": {},
   "outputs": [],
   "source": [
    "def draw_alien(win):\n",
    "    draw_horizon(win)\n",
    "    draw_moon(win)\n",
    "    draw_clouds(win)\n",
    "    draw_starship(win)"
   ]
  },
  {
   "cell_type": "code",
   "execution_count": 105,
   "metadata": {},
   "outputs": [],
   "source": [
    "win = create_window()\n",
    "draw_alien(win)\n",
    "win.getMouse()\n",
    "win.close()"
   ]
  },
  {
   "cell_type": "code",
   "execution_count": null,
   "metadata": {},
   "outputs": [],
   "source": []
  }
 ],
 "metadata": {
  "kernelspec": {
   "display_name": "Python 3",
   "language": "python",
   "name": "python3"
  },
  "language_info": {
   "codemirror_mode": {
    "name": "ipython",
    "version": 3
   },
   "file_extension": ".py",
   "mimetype": "text/x-python",
   "name": "python",
   "nbconvert_exporter": "python",
   "pygments_lexer": "ipython3",
   "version": "3.7.4"
  }
 },
 "nbformat": 4,
 "nbformat_minor": 2
}
