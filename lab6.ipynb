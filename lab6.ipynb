{
 "cells": [
  {
   "cell_type": "code",
   "execution_count": 13,
   "metadata": {},
   "outputs": [],
   "source": [
    "from tkinter import *\n",
    "\n",
    "root = Tk()\n",
    "\n",
    "e = Entry(width=200)\n",
    "b = Button(text=\"Преобразовать\")\n",
    "l = Label(bg='black', fg='white', width=200)\n",
    "\n",
    "def strToSortlist(event):\n",
    "    s = e.get()\n",
    "    s = s.split()\n",
    "    s.sort()\n",
    "    l['text'] = ' '.join(s)\n",
    "\n",
    "b.bind('<Button-1>', strToSortlist)\n",
    "\n",
    "e.pack()\n",
    "b.pack()\n",
    "l.pack()\n",
    "root.mainloop()"
   ]
  },
  {
   "cell_type": "code",
   "execution_count": 21,
   "metadata": {},
   "outputs": [],
   "source": [
    "from tkinter import *\n",
    "root = Tk()\n",
    "\n",
    "c = Canvas(root, width=200, height=200, bg='white')\n",
    "c.pack()\n",
    "\n",
    "c.create_text(100, 100, text=\"Hello World,\\nPython\\nand Tk\",\n",
    "                justify=CENTER, font=\"Verdana 14\")\n",
    "c.create_text(200, 200, text=\"About this\",\n",
    "                anchor=SE, fill=\"grey\")\n",
    "\n",
    "root.mainloop()"
   ]
  },
  {
   "cell_type": "code",
   "execution_count": 24,
   "metadata": {},
   "outputs": [
    {
     "name": "stdout",
     "output_type": "stream",
     "text": [
      "353 129 32\n",
      "675 326 39\n",
      "606 339 30\n",
      "606 339 30\n",
      "570 313 46\n",
      "570 313 46\n",
      "378 265 45\n",
      "378 265 45\n",
      "378 265 45\n",
      "295 242 31\n",
      "295 242 31\n",
      "295 242 31\n",
      "387 445 49\n",
      "387 445 49\n",
      "387 445 49\n",
      "387 445 49\n",
      "536 106 39\n",
      "536 106 39\n",
      "205 442 49\n",
      "205 442 49\n",
      "244 335 40\n",
      "439 188 39\n",
      "452 456 31\n",
      "310 184 36\n"
     ]
    }
   ],
   "source": [
    "from tkinter import *\n",
    "from random import randrange as rnd, choice\n",
    "import time\n",
    "root = Tk()\n",
    "root.geometry('800x600')\n",
    "\n",
    "canv = Canvas(root,bg='white')\n",
    "canv.pack(fill=BOTH,expand=1)\n",
    "\n",
    "colors = ['red','orange','yellow','green','blue']\n",
    "def new_ball():\n",
    "    global x,y,r\n",
    "    canv.delete(ALL)\n",
    "    x = rnd(100,700)\n",
    "    y = rnd(100,500)\n",
    "    r = rnd(30,50)\n",
    "    canv.create_oval(x-r,y-r,x+r,y+r,fill = choice(colors), width=0)\n",
    "    root.after(1000,new_ball)\n",
    "\n",
    "\n",
    "def click(event):\n",
    "    print(x,y,r)\n",
    "\n",
    "new_ball()\n",
    "canv.bind('<Button-1>', click)\n",
    "mainloop()"
   ]
  }
 ],
 "metadata": {
  "kernelspec": {
   "display_name": "Python 3",
   "language": "python",
   "name": "python3"
  },
  "language_info": {
   "codemirror_mode": {
    "name": "ipython",
    "version": 3
   },
   "file_extension": ".py",
   "mimetype": "text/x-python",
   "name": "python",
   "nbconvert_exporter": "python",
   "pygments_lexer": "ipython3",
   "version": "3.7.4"
  }
 },
 "nbformat": 4,
 "nbformat_minor": 2
}
